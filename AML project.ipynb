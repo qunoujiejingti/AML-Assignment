{
 "cells": [
  {
   "cell_type": "code",
   "execution_count": 2,
   "id": "b481113b",
   "metadata": {},
   "outputs": [],
   "source": [
    "import pandas as pd\n",
    "import numpy as np\n",
    "import matplotlib.pyplot as plt\n",
    "import seaborn as sns\n",
    "from scipy import stats\n",
    "\n",
    "from sklearn.model_selection import RandomizedSearchCV, train_test_split\n",
    "from sklearn.pipeline import Pipeline\n",
    "from sklearn.preprocessing import MinMaxScaler\n",
    "from sklearn.metrics import classification_report\n",
    "\n",
    "import xgboost as xgb\n",
    "from sklearn.ensemble import RandomForestClassifier\n",
    "\n",
    "import warnings\n",
    "warnings.filterwarnings(\"ignore\")"
   ]
  },
  {
   "cell_type": "code",
   "execution_count": 3,
   "id": "11f6a7c3",
   "metadata": {},
   "outputs": [],
   "source": [
    "df_raw = pd.read_excel(\"AML and ATF Modelling Assignment data_std.xlsx\", sheet_name = \"data\")\n",
    "# data is too few and we may consider Synthetic tabular data methods"
   ]
  },
  {
   "cell_type": "code",
   "execution_count": 4,
   "id": "06bf067e",
   "metadata": {},
   "outputs": [],
   "source": [
    "df_raw = df_raw.drop('tot_acct_num.1', axis = 1)"
   ]
  },
  {
   "cell_type": "code",
   "execution_count": 5,
   "id": "c904410f",
   "metadata": {},
   "outputs": [
    {
     "data": {
      "text/html": [
       "<div>\n",
       "<style scoped>\n",
       "    .dataframe tbody tr th:only-of-type {\n",
       "        vertical-align: middle;\n",
       "    }\n",
       "\n",
       "    .dataframe tbody tr th {\n",
       "        vertical-align: top;\n",
       "    }\n",
       "\n",
       "    .dataframe thead th {\n",
       "        text-align: right;\n",
       "    }\n",
       "</style>\n",
       "<table border=\"1\" class=\"dataframe\">\n",
       "  <thead>\n",
       "    <tr style=\"text-align: right;\">\n",
       "      <th></th>\n",
       "      <th>cust_tenure</th>\n",
       "      <th>cust_cdn_resident</th>\n",
       "      <th>prod_sav</th>\n",
       "      <th>prod_primary_sav_cnt</th>\n",
       "      <th>prod_cda</th>\n",
       "      <th>prod_primary_cda_cnt</th>\n",
       "      <th>prod_mor</th>\n",
       "      <th>prod_primary_mor_cnt</th>\n",
       "      <th>prod_llc</th>\n",
       "      <th>prod_primary_llc_cnt</th>\n",
       "      <th>...</th>\n",
       "      <th>max_acct_num</th>\n",
       "      <th>acct_type_num</th>\n",
       "      <th>tot_cross_border_val_12m</th>\n",
       "      <th>tot_cash_val_5m</th>\n",
       "      <th>tot_cross_border_cnt_12m</th>\n",
       "      <th>tot_cash_cnt_5m</th>\n",
       "      <th>avg_cash_5m</th>\n",
       "      <th>avg_wire_12m</th>\n",
       "      <th>cust_id_masked</th>\n",
       "      <th>rating</th>\n",
       "    </tr>\n",
       "  </thead>\n",
       "  <tbody>\n",
       "    <tr>\n",
       "      <th>0</th>\n",
       "      <td>-1.024753</td>\n",
       "      <td>0.231869</td>\n",
       "      <td>-0.827535</td>\n",
       "      <td>-0.677491</td>\n",
       "      <td>-1.187365</td>\n",
       "      <td>-0.989953</td>\n",
       "      <td>-0.391077</td>\n",
       "      <td>-0.324689</td>\n",
       "      <td>1.840668</td>\n",
       "      <td>1.333540</td>\n",
       "      <td>...</td>\n",
       "      <td>-0.602150</td>\n",
       "      <td>-0.874462</td>\n",
       "      <td>-0.128725</td>\n",
       "      <td>-0.378492</td>\n",
       "      <td>-0.291457</td>\n",
       "      <td>-0.835541</td>\n",
       "      <td>-0.400281</td>\n",
       "      <td>-0.140963</td>\n",
       "      <td>004f8eab603ba30ea8fffd64ef39d5a990aff66b35f447...</td>\n",
       "      <td>0</td>\n",
       "    </tr>\n",
       "    <tr>\n",
       "      <th>1</th>\n",
       "      <td>-0.802710</td>\n",
       "      <td>-4.312772</td>\n",
       "      <td>1.208408</td>\n",
       "      <td>0.548246</td>\n",
       "      <td>0.842201</td>\n",
       "      <td>0.297862</td>\n",
       "      <td>-0.391077</td>\n",
       "      <td>-0.324689</td>\n",
       "      <td>-0.543281</td>\n",
       "      <td>-0.494249</td>\n",
       "      <td>...</td>\n",
       "      <td>-0.602150</td>\n",
       "      <td>-0.175843</td>\n",
       "      <td>-0.128725</td>\n",
       "      <td>0.027173</td>\n",
       "      <td>-0.291457</td>\n",
       "      <td>-0.576554</td>\n",
       "      <td>1.707971</td>\n",
       "      <td>-0.140963</td>\n",
       "      <td>00a38e35a8350be0d0d2ef2c7c40de54f049ff8359b54e...</td>\n",
       "      <td>1</td>\n",
       "    </tr>\n",
       "    <tr>\n",
       "      <th>2</th>\n",
       "      <td>-0.893597</td>\n",
       "      <td>0.231869</td>\n",
       "      <td>-0.827535</td>\n",
       "      <td>-0.677491</td>\n",
       "      <td>-1.187365</td>\n",
       "      <td>-0.989953</td>\n",
       "      <td>-0.391077</td>\n",
       "      <td>-0.324689</td>\n",
       "      <td>1.840668</td>\n",
       "      <td>1.333540</td>\n",
       "      <td>...</td>\n",
       "      <td>-0.602150</td>\n",
       "      <td>-0.874462</td>\n",
       "      <td>-0.128725</td>\n",
       "      <td>-0.378492</td>\n",
       "      <td>-0.291457</td>\n",
       "      <td>-0.835541</td>\n",
       "      <td>-0.400281</td>\n",
       "      <td>-0.140963</td>\n",
       "      <td>00d442a125b121bcd9e17ae58fdce2e7ae3513375afb2a...</td>\n",
       "      <td>0</td>\n",
       "    </tr>\n",
       "    <tr>\n",
       "      <th>3</th>\n",
       "      <td>-0.742306</td>\n",
       "      <td>0.231869</td>\n",
       "      <td>1.208408</td>\n",
       "      <td>0.548246</td>\n",
       "      <td>-1.187365</td>\n",
       "      <td>-0.989953</td>\n",
       "      <td>-0.391077</td>\n",
       "      <td>-0.324689</td>\n",
       "      <td>-0.543281</td>\n",
       "      <td>-0.494249</td>\n",
       "      <td>...</td>\n",
       "      <td>-0.602150</td>\n",
       "      <td>-0.874462</td>\n",
       "      <td>-0.128725</td>\n",
       "      <td>-0.378492</td>\n",
       "      <td>-0.291457</td>\n",
       "      <td>-0.835541</td>\n",
       "      <td>-0.400281</td>\n",
       "      <td>-0.140963</td>\n",
       "      <td>0114b5ce76aa3c09c460620cc19f1a77087ede3c326021...</td>\n",
       "      <td>0</td>\n",
       "    </tr>\n",
       "    <tr>\n",
       "      <th>4</th>\n",
       "      <td>0.574287</td>\n",
       "      <td>0.231869</td>\n",
       "      <td>-0.827535</td>\n",
       "      <td>-0.677491</td>\n",
       "      <td>0.842201</td>\n",
       "      <td>0.297862</td>\n",
       "      <td>-0.391077</td>\n",
       "      <td>-0.324689</td>\n",
       "      <td>-0.543281</td>\n",
       "      <td>-0.494249</td>\n",
       "      <td>...</td>\n",
       "      <td>-0.602150</td>\n",
       "      <td>-0.874462</td>\n",
       "      <td>-0.128725</td>\n",
       "      <td>-0.081122</td>\n",
       "      <td>-0.291457</td>\n",
       "      <td>0.718380</td>\n",
       "      <td>-0.142708</td>\n",
       "      <td>-0.140963</td>\n",
       "      <td>015a0ba1cb86c4e46bb01f8ed501254cfb7422e240583f...</td>\n",
       "      <td>0</td>\n",
       "    </tr>\n",
       "    <tr>\n",
       "      <th>...</th>\n",
       "      <td>...</td>\n",
       "      <td>...</td>\n",
       "      <td>...</td>\n",
       "      <td>...</td>\n",
       "      <td>...</td>\n",
       "      <td>...</td>\n",
       "      <td>...</td>\n",
       "      <td>...</td>\n",
       "      <td>...</td>\n",
       "      <td>...</td>\n",
       "      <td>...</td>\n",
       "      <td>...</td>\n",
       "      <td>...</td>\n",
       "      <td>...</td>\n",
       "      <td>...</td>\n",
       "      <td>...</td>\n",
       "      <td>...</td>\n",
       "      <td>...</td>\n",
       "      <td>...</td>\n",
       "      <td>...</td>\n",
       "      <td>...</td>\n",
       "    </tr>\n",
       "    <tr>\n",
       "      <th>583</th>\n",
       "      <td>-0.724408</td>\n",
       "      <td>0.231869</td>\n",
       "      <td>1.208408</td>\n",
       "      <td>0.548246</td>\n",
       "      <td>-1.187365</td>\n",
       "      <td>-0.989953</td>\n",
       "      <td>-0.391077</td>\n",
       "      <td>-0.324689</td>\n",
       "      <td>-0.543281</td>\n",
       "      <td>-0.494249</td>\n",
       "      <td>...</td>\n",
       "      <td>-0.602150</td>\n",
       "      <td>-0.874462</td>\n",
       "      <td>-0.128725</td>\n",
       "      <td>-0.378492</td>\n",
       "      <td>-0.291457</td>\n",
       "      <td>-0.835541</td>\n",
       "      <td>-0.400281</td>\n",
       "      <td>-0.140963</td>\n",
       "      <td>fdf2f46a74ea777d5e0ef2b92319995df80c3c8a4b4432...</td>\n",
       "      <td>0</td>\n",
       "    </tr>\n",
       "    <tr>\n",
       "      <th>584</th>\n",
       "      <td>-0.748179</td>\n",
       "      <td>0.231869</td>\n",
       "      <td>1.208408</td>\n",
       "      <td>0.548246</td>\n",
       "      <td>0.842201</td>\n",
       "      <td>1.585677</td>\n",
       "      <td>-0.391077</td>\n",
       "      <td>-0.324689</td>\n",
       "      <td>-0.543281</td>\n",
       "      <td>-0.494249</td>\n",
       "      <td>...</td>\n",
       "      <td>0.057187</td>\n",
       "      <td>-0.175843</td>\n",
       "      <td>-0.107816</td>\n",
       "      <td>-0.378492</td>\n",
       "      <td>0.192658</td>\n",
       "      <td>-0.835541</td>\n",
       "      <td>-0.400281</td>\n",
       "      <td>-0.071333</td>\n",
       "      <td>fe345e6c8e0a7099429c7b16f086aab11e589b878d106a...</td>\n",
       "      <td>1</td>\n",
       "    </tr>\n",
       "    <tr>\n",
       "      <th>585</th>\n",
       "      <td>-0.239215</td>\n",
       "      <td>0.231869</td>\n",
       "      <td>1.208408</td>\n",
       "      <td>0.548246</td>\n",
       "      <td>0.842201</td>\n",
       "      <td>2.873492</td>\n",
       "      <td>-0.391077</td>\n",
       "      <td>-0.324689</td>\n",
       "      <td>-0.543281</td>\n",
       "      <td>-0.494249</td>\n",
       "      <td>...</td>\n",
       "      <td>1.375862</td>\n",
       "      <td>1.221395</td>\n",
       "      <td>0.227885</td>\n",
       "      <td>0.503676</td>\n",
       "      <td>3.097351</td>\n",
       "      <td>1.624834</td>\n",
       "      <td>0.082314</td>\n",
       "      <td>0.028687</td>\n",
       "      <td>ff6a3f3a489bacdc79cccd457e671575b11391cac9655b...</td>\n",
       "      <td>1</td>\n",
       "    </tr>\n",
       "    <tr>\n",
       "      <th>586</th>\n",
       "      <td>0.942306</td>\n",
       "      <td>0.231869</td>\n",
       "      <td>-0.827535</td>\n",
       "      <td>-0.677491</td>\n",
       "      <td>-1.187365</td>\n",
       "      <td>-0.989953</td>\n",
       "      <td>-0.391077</td>\n",
       "      <td>-0.324689</td>\n",
       "      <td>-0.543281</td>\n",
       "      <td>-0.494249</td>\n",
       "      <td>...</td>\n",
       "      <td>-1.261487</td>\n",
       "      <td>-1.573081</td>\n",
       "      <td>-0.128725</td>\n",
       "      <td>-0.366838</td>\n",
       "      <td>-0.291457</td>\n",
       "      <td>-0.447061</td>\n",
       "      <td>-0.359905</td>\n",
       "      <td>-0.140963</td>\n",
       "      <td>ff8fcb3b1b4bb844bff97217cef65259fe0523df71742e...</td>\n",
       "      <td>0</td>\n",
       "    </tr>\n",
       "    <tr>\n",
       "      <th>587</th>\n",
       "      <td>-0.078417</td>\n",
       "      <td>0.231869</td>\n",
       "      <td>-0.827535</td>\n",
       "      <td>-0.677491</td>\n",
       "      <td>-1.187365</td>\n",
       "      <td>-0.989953</td>\n",
       "      <td>2.557042</td>\n",
       "      <td>1.443063</td>\n",
       "      <td>1.840668</td>\n",
       "      <td>1.333540</td>\n",
       "      <td>...</td>\n",
       "      <td>-0.602150</td>\n",
       "      <td>0.522776</td>\n",
       "      <td>-0.128725</td>\n",
       "      <td>-0.378492</td>\n",
       "      <td>-0.291457</td>\n",
       "      <td>-0.835541</td>\n",
       "      <td>-0.400281</td>\n",
       "      <td>-0.140963</td>\n",
       "      <td>ffa9bb3ee22c2133b98f1517c2e7679fb061ec6046370d...</td>\n",
       "      <td>0</td>\n",
       "    </tr>\n",
       "  </tbody>\n",
       "</table>\n",
       "<p>588 rows × 151 columns</p>\n",
       "</div>"
      ],
      "text/plain": [
       "     cust_tenure  cust_cdn_resident  prod_sav  prod_primary_sav_cnt  prod_cda  \\\n",
       "0      -1.024753           0.231869 -0.827535             -0.677491 -1.187365   \n",
       "1      -0.802710          -4.312772  1.208408              0.548246  0.842201   \n",
       "2      -0.893597           0.231869 -0.827535             -0.677491 -1.187365   \n",
       "3      -0.742306           0.231869  1.208408              0.548246 -1.187365   \n",
       "4       0.574287           0.231869 -0.827535             -0.677491  0.842201   \n",
       "..           ...                ...       ...                   ...       ...   \n",
       "583    -0.724408           0.231869  1.208408              0.548246 -1.187365   \n",
       "584    -0.748179           0.231869  1.208408              0.548246  0.842201   \n",
       "585    -0.239215           0.231869  1.208408              0.548246  0.842201   \n",
       "586     0.942306           0.231869 -0.827535             -0.677491 -1.187365   \n",
       "587    -0.078417           0.231869 -0.827535             -0.677491 -1.187365   \n",
       "\n",
       "     prod_primary_cda_cnt  prod_mor  prod_primary_mor_cnt  prod_llc  \\\n",
       "0               -0.989953 -0.391077             -0.324689  1.840668   \n",
       "1                0.297862 -0.391077             -0.324689 -0.543281   \n",
       "2               -0.989953 -0.391077             -0.324689  1.840668   \n",
       "3               -0.989953 -0.391077             -0.324689 -0.543281   \n",
       "4                0.297862 -0.391077             -0.324689 -0.543281   \n",
       "..                    ...       ...                   ...       ...   \n",
       "583             -0.989953 -0.391077             -0.324689 -0.543281   \n",
       "584              1.585677 -0.391077             -0.324689 -0.543281   \n",
       "585              2.873492 -0.391077             -0.324689 -0.543281   \n",
       "586             -0.989953 -0.391077             -0.324689 -0.543281   \n",
       "587             -0.989953  2.557042              1.443063  1.840668   \n",
       "\n",
       "     prod_primary_llc_cnt  ...  max_acct_num  acct_type_num  \\\n",
       "0                1.333540  ...     -0.602150      -0.874462   \n",
       "1               -0.494249  ...     -0.602150      -0.175843   \n",
       "2                1.333540  ...     -0.602150      -0.874462   \n",
       "3               -0.494249  ...     -0.602150      -0.874462   \n",
       "4               -0.494249  ...     -0.602150      -0.874462   \n",
       "..                    ...  ...           ...            ...   \n",
       "583             -0.494249  ...     -0.602150      -0.874462   \n",
       "584             -0.494249  ...      0.057187      -0.175843   \n",
       "585             -0.494249  ...      1.375862       1.221395   \n",
       "586             -0.494249  ...     -1.261487      -1.573081   \n",
       "587              1.333540  ...     -0.602150       0.522776   \n",
       "\n",
       "     tot_cross_border_val_12m  tot_cash_val_5m  tot_cross_border_cnt_12m  \\\n",
       "0                   -0.128725        -0.378492                 -0.291457   \n",
       "1                   -0.128725         0.027173                 -0.291457   \n",
       "2                   -0.128725        -0.378492                 -0.291457   \n",
       "3                   -0.128725        -0.378492                 -0.291457   \n",
       "4                   -0.128725        -0.081122                 -0.291457   \n",
       "..                        ...              ...                       ...   \n",
       "583                 -0.128725        -0.378492                 -0.291457   \n",
       "584                 -0.107816        -0.378492                  0.192658   \n",
       "585                  0.227885         0.503676                  3.097351   \n",
       "586                 -0.128725        -0.366838                 -0.291457   \n",
       "587                 -0.128725        -0.378492                 -0.291457   \n",
       "\n",
       "     tot_cash_cnt_5m  avg_cash_5m  avg_wire_12m  \\\n",
       "0          -0.835541    -0.400281     -0.140963   \n",
       "1          -0.576554     1.707971     -0.140963   \n",
       "2          -0.835541    -0.400281     -0.140963   \n",
       "3          -0.835541    -0.400281     -0.140963   \n",
       "4           0.718380    -0.142708     -0.140963   \n",
       "..               ...          ...           ...   \n",
       "583        -0.835541    -0.400281     -0.140963   \n",
       "584        -0.835541    -0.400281     -0.071333   \n",
       "585         1.624834     0.082314      0.028687   \n",
       "586        -0.447061    -0.359905     -0.140963   \n",
       "587        -0.835541    -0.400281     -0.140963   \n",
       "\n",
       "                                        cust_id_masked  rating  \n",
       "0    004f8eab603ba30ea8fffd64ef39d5a990aff66b35f447...       0  \n",
       "1    00a38e35a8350be0d0d2ef2c7c40de54f049ff8359b54e...       1  \n",
       "2    00d442a125b121bcd9e17ae58fdce2e7ae3513375afb2a...       0  \n",
       "3    0114b5ce76aa3c09c460620cc19f1a77087ede3c326021...       0  \n",
       "4    015a0ba1cb86c4e46bb01f8ed501254cfb7422e240583f...       0  \n",
       "..                                                 ...     ...  \n",
       "583  fdf2f46a74ea777d5e0ef2b92319995df80c3c8a4b4432...       0  \n",
       "584  fe345e6c8e0a7099429c7b16f086aab11e589b878d106a...       1  \n",
       "585  ff6a3f3a489bacdc79cccd457e671575b11391cac9655b...       1  \n",
       "586  ff8fcb3b1b4bb844bff97217cef65259fe0523df71742e...       0  \n",
       "587  ffa9bb3ee22c2133b98f1517c2e7679fb061ec6046370d...       0  \n",
       "\n",
       "[588 rows x 151 columns]"
      ]
     },
     "execution_count": 5,
     "metadata": {},
     "output_type": "execute_result"
    }
   ],
   "source": [
    "df_raw"
   ]
  },
  {
   "cell_type": "code",
   "execution_count": 31,
   "id": "75792a78",
   "metadata": {},
   "outputs": [
    {
     "data": {
      "text/plain": [
       "10"
      ]
     },
     "execution_count": 31,
     "metadata": {},
     "output_type": "execute_result"
    }
   ],
   "source": [
    "df_raw['cust_tenure'].rolling(10).mean().shift(-10).isna().sum()"
   ]
  },
  {
   "cell_type": "code",
   "execution_count": 32,
   "id": "adff4c76",
   "metadata": {},
   "outputs": [
    {
     "data": {
      "text/plain": [
       "9      1.155061\n",
       "10     1.126149\n",
       "11     1.085562\n",
       "12     1.010031\n",
       "13     1.048836\n",
       "         ...   \n",
       "583    1.109371\n",
       "584    1.105763\n",
       "585    1.098287\n",
       "586    0.846281\n",
       "587    0.609096\n",
       "Name: cust_tenure, Length: 579, dtype: float64"
      ]
     },
     "execution_count": 32,
     "metadata": {},
     "output_type": "execute_result"
    }
   ],
   "source": [
    "df_raw['cust_tenure'].rolling(10).std()[9:] # std is unbiased"
   ]
  },
  {
   "cell_type": "code",
   "execution_count": 33,
   "id": "c09ce031",
   "metadata": {},
   "outputs": [
    {
     "data": {
      "text/plain": [
       "1.1261492680134026"
      ]
     },
     "execution_count": 33,
     "metadata": {},
     "output_type": "execute_result"
    }
   ],
   "source": [
    "np.std(df_raw['cust_tenure'][1:11], ddof = 1) # np.std is biased by default"
   ]
  },
  {
   "cell_type": "code",
   "execution_count": 24,
   "id": "da398d92",
   "metadata": {},
   "outputs": [],
   "source": [
    "from scipy.stats import rankdata"
   ]
  },
  {
   "cell_type": "code",
   "execution_count": 35,
   "id": "ffe1fe48",
   "metadata": {},
   "outputs": [
    {
     "data": {
      "text/plain": [
       "0       12.5\n",
       "1      171.5\n",
       "2       81.0\n",
       "3      197.0\n",
       "4      430.0\n",
       "       ...  \n",
       "583    203.5\n",
       "584    194.0\n",
       "585    333.0\n",
       "586    469.0\n",
       "587    356.0\n",
       "Name: cust_tenure, Length: 588, dtype: float64"
      ]
     },
     "execution_count": 35,
     "metadata": {},
     "output_type": "execute_result"
    }
   ],
   "source": [
    "df_raw['cust_tenure'].rank()"
   ]
  },
  {
   "cell_type": "code",
   "execution_count": 36,
   "id": "24b56967",
   "metadata": {},
   "outputs": [
    {
     "data": {
      "text/plain": [
       "array([1.])"
      ]
     },
     "execution_count": 36,
     "metadata": {},
     "output_type": "execute_result"
    }
   ],
   "source": [
    "rankdata(df_raw['cust_tenure'].rolling(10))"
   ]
  },
  {
   "cell_type": "code",
   "execution_count": 5,
   "id": "4dd305d6",
   "metadata": {},
   "outputs": [
    {
     "data": {
      "text/plain": [
       "0"
      ]
     },
     "execution_count": 5,
     "metadata": {},
     "output_type": "execute_result"
    }
   ],
   "source": [
    "df_raw.isna().sum().sum() # no na values"
   ]
  },
  {
   "cell_type": "code",
   "execution_count": 24,
   "id": "0647f726",
   "metadata": {},
   "outputs": [
    {
     "data": {
      "text/plain": [
       "588"
      ]
     },
     "execution_count": 24,
     "metadata": {},
     "output_type": "execute_result"
    }
   ],
   "source": [
    "len(df_raw[\"cust_id_masked\"].unique()) # no duplicate customers"
   ]
  },
  {
   "cell_type": "code",
   "execution_count": 47,
   "id": "c7ff80ae",
   "metadata": {},
   "outputs": [
    {
     "data": {
      "text/plain": [
       "0    390\n",
       "1    198\n",
       "Name: rating, dtype: int64"
      ]
     },
     "execution_count": 47,
     "metadata": {},
     "output_type": "execute_result"
    }
   ],
   "source": [
    "df_raw[\"rating\"].value_counts() # 0 and 1 with ratio 2:1, no need for oversample, no need for reimbalance"
   ]
  },
  {
   "cell_type": "code",
   "execution_count": 17,
   "id": "ff6beb9e",
   "metadata": {},
   "outputs": [],
   "source": [
    "df_no_id = df_raw.drop(\"cust_id_masked\", axis = 1)"
   ]
  },
  {
   "cell_type": "code",
   "execution_count": 23,
   "id": "56c47cea",
   "metadata": {},
   "outputs": [],
   "source": [
    "# For now consider no outliers removing since tree model is quite robust to outliers\n",
    "# min_rows = 10000\n",
    "# index = -1\n",
    "# # filter the outlier within 3 std dev range of the mean\n",
    "# for col in range(len(df_no_id.columns)):\n",
    "#     rows = len(df_no_id[(np.abs(stats.zscore(df_no_id.iloc[:,col])) <= 3)])\n",
    "#     if rows < min_rows:\n",
    "#         min_rows = rows\n",
    "#         index = col\n",
    "\n",
    "# df_filtered = df_no_id[(np.abs(stats.zscore(df_no_id.iloc[:,1])) <= 3)]\n",
    "# # remove outlier based on the column with the most outliers\n",
    "# data_train = df_filtered.drop(\"rating\", axis=1)\n",
    "# label_train = df_filtered[\"rating\"]"
   ]
  },
  {
   "cell_type": "code",
   "execution_count": 18,
   "id": "c72520ba",
   "metadata": {},
   "outputs": [],
   "source": [
    "data_train = df_no_id.drop(\"rating\", axis=1)\n",
    "label_train = df_no_id[\"rating\"]"
   ]
  },
  {
   "cell_type": "code",
   "execution_count": 19,
   "id": "fd2a5c78",
   "metadata": {},
   "outputs": [],
   "source": [
    "num_transformer = Pipeline(steps=[ \n",
    "    ('scaler', MinMaxScaler())\n",
    "])\n",
    "\n",
    "estimator = xgb.XGBClassifier()\n",
    "\n",
    "pipeline = Pipeline(\n",
    "    steps=[('preprocess', num_transformer), ('estimator', estimator)]\n",
    ")\n",
    "\n",
    "params = {\n",
    "    'estimator__max_depth': [5, 6, 7],\n",
    "    'estimator__gamma': [1, 5, 9],\n",
    "    'estimator__colsample_bytree': [0.5, 0.7, 1],\n",
    "    'estimator__min_child_weight': [1, 5, 10]\n",
    "}\n",
    "\n",
    "tuning_pipe = RandomizedSearchCV(pipeline, params, scoring='accuracy', cv=5, verbose=1)"
   ]
  },
  {
   "cell_type": "code",
   "execution_count": 20,
   "id": "546d95e0",
   "metadata": {},
   "outputs": [
    {
     "name": "stdout",
     "output_type": "stream",
     "text": [
      "Fitting 5 folds for each of 10 candidates, totalling 50 fits\n",
      "[18:18:45] WARNING: C:/Users/Administrator/workspace/xgboost-win64_release_1.4.0/src/learner.cc:1095: Starting in XGBoost 1.3.0, the default evaluation metric used with the objective 'binary:logistic' was changed from 'error' to 'logloss'. Explicitly set eval_metric if you'd like to restore the old behavior.\n",
      "[18:18:45] WARNING: C:/Users/Administrator/workspace/xgboost-win64_release_1.4.0/src/learner.cc:1095: Starting in XGBoost 1.3.0, the default evaluation metric used with the objective 'binary:logistic' was changed from 'error' to 'logloss'. Explicitly set eval_metric if you'd like to restore the old behavior.\n",
      "[18:18:45] WARNING: C:/Users/Administrator/workspace/xgboost-win64_release_1.4.0/src/learner.cc:1095: Starting in XGBoost 1.3.0, the default evaluation metric used with the objective 'binary:logistic' was changed from 'error' to 'logloss'. Explicitly set eval_metric if you'd like to restore the old behavior.\n",
      "[18:18:45] WARNING: C:/Users/Administrator/workspace/xgboost-win64_release_1.4.0/src/learner.cc:1095: Starting in XGBoost 1.3.0, the default evaluation metric used with the objective 'binary:logistic' was changed from 'error' to 'logloss'. Explicitly set eval_metric if you'd like to restore the old behavior.\n",
      "[18:18:45] WARNING: C:/Users/Administrator/workspace/xgboost-win64_release_1.4.0/src/learner.cc:1095: Starting in XGBoost 1.3.0, the default evaluation metric used with the objective 'binary:logistic' was changed from 'error' to 'logloss'. Explicitly set eval_metric if you'd like to restore the old behavior.\n",
      "[18:18:45] WARNING: C:/Users/Administrator/workspace/xgboost-win64_release_1.4.0/src/learner.cc:1095: Starting in XGBoost 1.3.0, the default evaluation metric used with the objective 'binary:logistic' was changed from 'error' to 'logloss'. Explicitly set eval_metric if you'd like to restore the old behavior.\n",
      "[18:18:45] WARNING: C:/Users/Administrator/workspace/xgboost-win64_release_1.4.0/src/learner.cc:1095: Starting in XGBoost 1.3.0, the default evaluation metric used with the objective 'binary:logistic' was changed from 'error' to 'logloss'. Explicitly set eval_metric if you'd like to restore the old behavior.\n",
      "[18:18:45] WARNING: C:/Users/Administrator/workspace/xgboost-win64_release_1.4.0/src/learner.cc:1095: Starting in XGBoost 1.3.0, the default evaluation metric used with the objective 'binary:logistic' was changed from 'error' to 'logloss'. Explicitly set eval_metric if you'd like to restore the old behavior.\n",
      "[18:18:45] WARNING: C:/Users/Administrator/workspace/xgboost-win64_release_1.4.0/src/learner.cc:1095: Starting in XGBoost 1.3.0, the default evaluation metric used with the objective 'binary:logistic' was changed from 'error' to 'logloss'. Explicitly set eval_metric if you'd like to restore the old behavior.\n",
      "[18:18:45] WARNING: C:/Users/Administrator/workspace/xgboost-win64_release_1.4.0/src/learner.cc:1095: Starting in XGBoost 1.3.0, the default evaluation metric used with the objective 'binary:logistic' was changed from 'error' to 'logloss'. Explicitly set eval_metric if you'd like to restore the old behavior.\n",
      "[18:18:45] WARNING: C:/Users/Administrator/workspace/xgboost-win64_release_1.4.0/src/learner.cc:1095: Starting in XGBoost 1.3.0, the default evaluation metric used with the objective 'binary:logistic' was changed from 'error' to 'logloss'. Explicitly set eval_metric if you'd like to restore the old behavior.\n",
      "[18:18:45] WARNING: C:/Users/Administrator/workspace/xgboost-win64_release_1.4.0/src/learner.cc:1095: Starting in XGBoost 1.3.0, the default evaluation metric used with the objective 'binary:logistic' was changed from 'error' to 'logloss'. Explicitly set eval_metric if you'd like to restore the old behavior.\n",
      "[18:18:46] WARNING: C:/Users/Administrator/workspace/xgboost-win64_release_1.4.0/src/learner.cc:1095: Starting in XGBoost 1.3.0, the default evaluation metric used with the objective 'binary:logistic' was changed from 'error' to 'logloss'. Explicitly set eval_metric if you'd like to restore the old behavior.\n",
      "[18:18:46] WARNING: C:/Users/Administrator/workspace/xgboost-win64_release_1.4.0/src/learner.cc:1095: Starting in XGBoost 1.3.0, the default evaluation metric used with the objective 'binary:logistic' was changed from 'error' to 'logloss'. Explicitly set eval_metric if you'd like to restore the old behavior.\n",
      "[18:18:46] WARNING: C:/Users/Administrator/workspace/xgboost-win64_release_1.4.0/src/learner.cc:1095: Starting in XGBoost 1.3.0, the default evaluation metric used with the objective 'binary:logistic' was changed from 'error' to 'logloss'. Explicitly set eval_metric if you'd like to restore the old behavior.\n",
      "[18:18:46] WARNING: C:/Users/Administrator/workspace/xgboost-win64_release_1.4.0/src/learner.cc:1095: Starting in XGBoost 1.3.0, the default evaluation metric used with the objective 'binary:logistic' was changed from 'error' to 'logloss'. Explicitly set eval_metric if you'd like to restore the old behavior.\n",
      "[18:18:46] WARNING: C:/Users/Administrator/workspace/xgboost-win64_release_1.4.0/src/learner.cc:1095: Starting in XGBoost 1.3.0, the default evaluation metric used with the objective 'binary:logistic' was changed from 'error' to 'logloss'. Explicitly set eval_metric if you'd like to restore the old behavior.\n",
      "[18:18:46] WARNING: C:/Users/Administrator/workspace/xgboost-win64_release_1.4.0/src/learner.cc:1095: Starting in XGBoost 1.3.0, the default evaluation metric used with the objective 'binary:logistic' was changed from 'error' to 'logloss'. Explicitly set eval_metric if you'd like to restore the old behavior.\n",
      "[18:18:46] WARNING: C:/Users/Administrator/workspace/xgboost-win64_release_1.4.0/src/learner.cc:1095: Starting in XGBoost 1.3.0, the default evaluation metric used with the objective 'binary:logistic' was changed from 'error' to 'logloss'. Explicitly set eval_metric if you'd like to restore the old behavior.\n",
      "[18:18:46] WARNING: C:/Users/Administrator/workspace/xgboost-win64_release_1.4.0/src/learner.cc:1095: Starting in XGBoost 1.3.0, the default evaluation metric used with the objective 'binary:logistic' was changed from 'error' to 'logloss'. Explicitly set eval_metric if you'd like to restore the old behavior.\n",
      "[18:18:46] WARNING: C:/Users/Administrator/workspace/xgboost-win64_release_1.4.0/src/learner.cc:1095: Starting in XGBoost 1.3.0, the default evaluation metric used with the objective 'binary:logistic' was changed from 'error' to 'logloss'. Explicitly set eval_metric if you'd like to restore the old behavior.\n",
      "[18:18:46] WARNING: C:/Users/Administrator/workspace/xgboost-win64_release_1.4.0/src/learner.cc:1095: Starting in XGBoost 1.3.0, the default evaluation metric used with the objective 'binary:logistic' was changed from 'error' to 'logloss'. Explicitly set eval_metric if you'd like to restore the old behavior.\n",
      "[18:18:46] WARNING: C:/Users/Administrator/workspace/xgboost-win64_release_1.4.0/src/learner.cc:1095: Starting in XGBoost 1.3.0, the default evaluation metric used with the objective 'binary:logistic' was changed from 'error' to 'logloss'. Explicitly set eval_metric if you'd like to restore the old behavior.\n",
      "[18:18:46] WARNING: C:/Users/Administrator/workspace/xgboost-win64_release_1.4.0/src/learner.cc:1095: Starting in XGBoost 1.3.0, the default evaluation metric used with the objective 'binary:logistic' was changed from 'error' to 'logloss'. Explicitly set eval_metric if you'd like to restore the old behavior.\n",
      "[18:18:46] WARNING: C:/Users/Administrator/workspace/xgboost-win64_release_1.4.0/src/learner.cc:1095: Starting in XGBoost 1.3.0, the default evaluation metric used with the objective 'binary:logistic' was changed from 'error' to 'logloss'. Explicitly set eval_metric if you'd like to restore the old behavior.\n",
      "[18:18:46] WARNING: C:/Users/Administrator/workspace/xgboost-win64_release_1.4.0/src/learner.cc:1095: Starting in XGBoost 1.3.0, the default evaluation metric used with the objective 'binary:logistic' was changed from 'error' to 'logloss'. Explicitly set eval_metric if you'd like to restore the old behavior.\n",
      "[18:18:47] WARNING: C:/Users/Administrator/workspace/xgboost-win64_release_1.4.0/src/learner.cc:1095: Starting in XGBoost 1.3.0, the default evaluation metric used with the objective 'binary:logistic' was changed from 'error' to 'logloss'. Explicitly set eval_metric if you'd like to restore the old behavior.\n",
      "[18:18:47] WARNING: C:/Users/Administrator/workspace/xgboost-win64_release_1.4.0/src/learner.cc:1095: Starting in XGBoost 1.3.0, the default evaluation metric used with the objective 'binary:logistic' was changed from 'error' to 'logloss'. Explicitly set eval_metric if you'd like to restore the old behavior.\n",
      "[18:18:47] WARNING: C:/Users/Administrator/workspace/xgboost-win64_release_1.4.0/src/learner.cc:1095: Starting in XGBoost 1.3.0, the default evaluation metric used with the objective 'binary:logistic' was changed from 'error' to 'logloss'. Explicitly set eval_metric if you'd like to restore the old behavior.\n"
     ]
    },
    {
     "name": "stdout",
     "output_type": "stream",
     "text": [
      "[18:18:47] WARNING: C:/Users/Administrator/workspace/xgboost-win64_release_1.4.0/src/learner.cc:1095: Starting in XGBoost 1.3.0, the default evaluation metric used with the objective 'binary:logistic' was changed from 'error' to 'logloss'. Explicitly set eval_metric if you'd like to restore the old behavior.\n",
      "[18:18:47] WARNING: C:/Users/Administrator/workspace/xgboost-win64_release_1.4.0/src/learner.cc:1095: Starting in XGBoost 1.3.0, the default evaluation metric used with the objective 'binary:logistic' was changed from 'error' to 'logloss'. Explicitly set eval_metric if you'd like to restore the old behavior.\n",
      "[18:18:47] WARNING: C:/Users/Administrator/workspace/xgboost-win64_release_1.4.0/src/learner.cc:1095: Starting in XGBoost 1.3.0, the default evaluation metric used with the objective 'binary:logistic' was changed from 'error' to 'logloss'. Explicitly set eval_metric if you'd like to restore the old behavior.\n",
      "[18:18:47] WARNING: C:/Users/Administrator/workspace/xgboost-win64_release_1.4.0/src/learner.cc:1095: Starting in XGBoost 1.3.0, the default evaluation metric used with the objective 'binary:logistic' was changed from 'error' to 'logloss'. Explicitly set eval_metric if you'd like to restore the old behavior.\n",
      "[18:18:47] WARNING: C:/Users/Administrator/workspace/xgboost-win64_release_1.4.0/src/learner.cc:1095: Starting in XGBoost 1.3.0, the default evaluation metric used with the objective 'binary:logistic' was changed from 'error' to 'logloss'. Explicitly set eval_metric if you'd like to restore the old behavior.\n",
      "[18:18:47] WARNING: C:/Users/Administrator/workspace/xgboost-win64_release_1.4.0/src/learner.cc:1095: Starting in XGBoost 1.3.0, the default evaluation metric used with the objective 'binary:logistic' was changed from 'error' to 'logloss'. Explicitly set eval_metric if you'd like to restore the old behavior.\n",
      "[18:18:47] WARNING: C:/Users/Administrator/workspace/xgboost-win64_release_1.4.0/src/learner.cc:1095: Starting in XGBoost 1.3.0, the default evaluation metric used with the objective 'binary:logistic' was changed from 'error' to 'logloss'. Explicitly set eval_metric if you'd like to restore the old behavior.\n",
      "[18:18:47] WARNING: C:/Users/Administrator/workspace/xgboost-win64_release_1.4.0/src/learner.cc:1095: Starting in XGBoost 1.3.0, the default evaluation metric used with the objective 'binary:logistic' was changed from 'error' to 'logloss'. Explicitly set eval_metric if you'd like to restore the old behavior.\n",
      "[18:18:47] WARNING: C:/Users/Administrator/workspace/xgboost-win64_release_1.4.0/src/learner.cc:1095: Starting in XGBoost 1.3.0, the default evaluation metric used with the objective 'binary:logistic' was changed from 'error' to 'logloss'. Explicitly set eval_metric if you'd like to restore the old behavior.\n",
      "[18:18:47] WARNING: C:/Users/Administrator/workspace/xgboost-win64_release_1.4.0/src/learner.cc:1095: Starting in XGBoost 1.3.0, the default evaluation metric used with the objective 'binary:logistic' was changed from 'error' to 'logloss'. Explicitly set eval_metric if you'd like to restore the old behavior.\n",
      "[18:18:47] WARNING: C:/Users/Administrator/workspace/xgboost-win64_release_1.4.0/src/learner.cc:1095: Starting in XGBoost 1.3.0, the default evaluation metric used with the objective 'binary:logistic' was changed from 'error' to 'logloss'. Explicitly set eval_metric if you'd like to restore the old behavior.\n",
      "[18:18:48] WARNING: C:/Users/Administrator/workspace/xgboost-win64_release_1.4.0/src/learner.cc:1095: Starting in XGBoost 1.3.0, the default evaluation metric used with the objective 'binary:logistic' was changed from 'error' to 'logloss'. Explicitly set eval_metric if you'd like to restore the old behavior.\n",
      "[18:18:48] WARNING: C:/Users/Administrator/workspace/xgboost-win64_release_1.4.0/src/learner.cc:1095: Starting in XGBoost 1.3.0, the default evaluation metric used with the objective 'binary:logistic' was changed from 'error' to 'logloss'. Explicitly set eval_metric if you'd like to restore the old behavior.\n",
      "[18:18:48] WARNING: C:/Users/Administrator/workspace/xgboost-win64_release_1.4.0/src/learner.cc:1095: Starting in XGBoost 1.3.0, the default evaluation metric used with the objective 'binary:logistic' was changed from 'error' to 'logloss'. Explicitly set eval_metric if you'd like to restore the old behavior.\n",
      "[18:18:48] WARNING: C:/Users/Administrator/workspace/xgboost-win64_release_1.4.0/src/learner.cc:1095: Starting in XGBoost 1.3.0, the default evaluation metric used with the objective 'binary:logistic' was changed from 'error' to 'logloss'. Explicitly set eval_metric if you'd like to restore the old behavior.\n",
      "[18:18:48] WARNING: C:/Users/Administrator/workspace/xgboost-win64_release_1.4.0/src/learner.cc:1095: Starting in XGBoost 1.3.0, the default evaluation metric used with the objective 'binary:logistic' was changed from 'error' to 'logloss'. Explicitly set eval_metric if you'd like to restore the old behavior.\n",
      "[18:18:48] WARNING: C:/Users/Administrator/workspace/xgboost-win64_release_1.4.0/src/learner.cc:1095: Starting in XGBoost 1.3.0, the default evaluation metric used with the objective 'binary:logistic' was changed from 'error' to 'logloss'. Explicitly set eval_metric if you'd like to restore the old behavior.\n",
      "[18:18:48] WARNING: C:/Users/Administrator/workspace/xgboost-win64_release_1.4.0/src/learner.cc:1095: Starting in XGBoost 1.3.0, the default evaluation metric used with the objective 'binary:logistic' was changed from 'error' to 'logloss'. Explicitly set eval_metric if you'd like to restore the old behavior.\n",
      "[18:18:48] WARNING: C:/Users/Administrator/workspace/xgboost-win64_release_1.4.0/src/learner.cc:1095: Starting in XGBoost 1.3.0, the default evaluation metric used with the objective 'binary:logistic' was changed from 'error' to 'logloss'. Explicitly set eval_metric if you'd like to restore the old behavior.\n",
      "[18:18:48] WARNING: C:/Users/Administrator/workspace/xgboost-win64_release_1.4.0/src/learner.cc:1095: Starting in XGBoost 1.3.0, the default evaluation metric used with the objective 'binary:logistic' was changed from 'error' to 'logloss'. Explicitly set eval_metric if you'd like to restore the old behavior.\n",
      "[18:18:48] WARNING: C:/Users/Administrator/workspace/xgboost-win64_release_1.4.0/src/learner.cc:1095: Starting in XGBoost 1.3.0, the default evaluation metric used with the objective 'binary:logistic' was changed from 'error' to 'logloss'. Explicitly set eval_metric if you'd like to restore the old behavior.\n",
      "[18:18:48] WARNING: C:/Users/Administrator/workspace/xgboost-win64_release_1.4.0/src/learner.cc:1095: Starting in XGBoost 1.3.0, the default evaluation metric used with the objective 'binary:logistic' was changed from 'error' to 'logloss'. Explicitly set eval_metric if you'd like to restore the old behavior.\n"
     ]
    },
    {
     "data": {
      "text/plain": [
       "RandomizedSearchCV(cv=5,\n",
       "                   estimator=Pipeline(steps=[('preprocess',\n",
       "                                              Pipeline(steps=[('scaler',\n",
       "                                                               MinMaxScaler())])),\n",
       "                                             ('estimator',\n",
       "                                              XGBClassifier(base_score=None,\n",
       "                                                            booster=None,\n",
       "                                                            colsample_bylevel=None,\n",
       "                                                            colsample_bynode=None,\n",
       "                                                            colsample_bytree=None,\n",
       "                                                            gamma=None,\n",
       "                                                            gpu_id=None,\n",
       "                                                            importance_type='gain',\n",
       "                                                            interaction_constraints=None,\n",
       "                                                            learning_rate=None,\n",
       "                                                            max_delta_step=None,\n",
       "                                                            max_...\n",
       "                                                            num_parallel_tree=None,\n",
       "                                                            random_state=None,\n",
       "                                                            reg_alpha=None,\n",
       "                                                            reg_lambda=None,\n",
       "                                                            scale_pos_weight=None,\n",
       "                                                            subsample=None,\n",
       "                                                            tree_method=None,\n",
       "                                                            validate_parameters=None,\n",
       "                                                            verbosity=None))]),\n",
       "                   param_distributions={'estimator__colsample_bytree': [0.5,\n",
       "                                                                        0.7,\n",
       "                                                                        1],\n",
       "                                        'estimator__gamma': [1, 5, 9],\n",
       "                                        'estimator__max_depth': [5, 6, 7],\n",
       "                                        'estimator__min_child_weight': [1, 5,\n",
       "                                                                        10]},\n",
       "                   scoring='accuracy', verbose=1)"
      ]
     },
     "execution_count": 20,
     "metadata": {},
     "output_type": "execute_result"
    }
   ],
   "source": [
    "tuning_pipe.fit(data_train, label_train)"
   ]
  },
  {
   "cell_type": "code",
   "execution_count": 21,
   "id": "74f74c8d",
   "metadata": {},
   "outputs": [
    {
     "data": {
      "text/plain": [
       "0.7993191366072722"
      ]
     },
     "execution_count": 21,
     "metadata": {},
     "output_type": "execute_result"
    }
   ],
   "source": [
    "tuning_pipe.best_score_"
   ]
  },
  {
   "cell_type": "code",
   "execution_count": 22,
   "id": "0855cbb9",
   "metadata": {},
   "outputs": [],
   "source": [
    "feature_importance_index = np.argsort(tuning_pipe.best_estimator_[1].feature_importances_)[::-1]\n",
    "feature_importance_values = np.sort(tuning_pipe.best_estimator_[1].feature_importances_)[::-1]"
   ]
  },
  {
   "cell_type": "code",
   "execution_count": 23,
   "id": "e932b19b",
   "metadata": {},
   "outputs": [
    {
     "data": {
      "text/plain": [
       "array([0.2813378 , 0.09423999, 0.06442047, 0.06119716, 0.06096362,\n",
       "       0.05544405, 0.05513538, 0.05043028, 0.04977078, 0.0482401 ,\n",
       "       0.04129982, 0.03948875, 0.03237678, 0.02737898, 0.02244182,\n",
       "       0.01583422, 0.        , 0.        , 0.        , 0.        ,\n",
       "       0.        , 0.        , 0.        , 0.        , 0.        ,\n",
       "       0.        , 0.        , 0.        , 0.        , 0.        ,\n",
       "       0.        , 0.        , 0.        , 0.        , 0.        ,\n",
       "       0.        , 0.        , 0.        , 0.        , 0.        ,\n",
       "       0.        , 0.        , 0.        , 0.        , 0.        ,\n",
       "       0.        , 0.        , 0.        , 0.        , 0.        ,\n",
       "       0.        , 0.        , 0.        , 0.        , 0.        ,\n",
       "       0.        , 0.        , 0.        , 0.        , 0.        ,\n",
       "       0.        , 0.        , 0.        , 0.        , 0.        ,\n",
       "       0.        , 0.        , 0.        , 0.        , 0.        ,\n",
       "       0.        , 0.        , 0.        , 0.        , 0.        ,\n",
       "       0.        , 0.        , 0.        , 0.        , 0.        ,\n",
       "       0.        , 0.        , 0.        , 0.        , 0.        ,\n",
       "       0.        , 0.        , 0.        , 0.        , 0.        ,\n",
       "       0.        , 0.        , 0.        , 0.        , 0.        ,\n",
       "       0.        , 0.        , 0.        , 0.        , 0.        ,\n",
       "       0.        , 0.        , 0.        , 0.        , 0.        ,\n",
       "       0.        , 0.        , 0.        , 0.        , 0.        ,\n",
       "       0.        , 0.        , 0.        , 0.        , 0.        ,\n",
       "       0.        , 0.        , 0.        , 0.        , 0.        ,\n",
       "       0.        , 0.        , 0.        , 0.        , 0.        ,\n",
       "       0.        , 0.        , 0.        , 0.        , 0.        ,\n",
       "       0.        , 0.        , 0.        , 0.        , 0.        ,\n",
       "       0.        , 0.        , 0.        , 0.        , 0.        ,\n",
       "       0.        , 0.        , 0.        , 0.        , 0.        ,\n",
       "       0.        , 0.        , 0.        , 0.        ], dtype=float32)"
      ]
     },
     "execution_count": 23,
     "metadata": {},
     "output_type": "execute_result"
    }
   ],
   "source": [
    "feature_importance_values"
   ]
  },
  {
   "cell_type": "code",
   "execution_count": 24,
   "id": "7ce67575",
   "metadata": {},
   "outputs": [
    {
     "data": {
      "text/plain": [
       "Index(['avg_wire_12m', 'tot_cross_border_val_12m', 'avg_cash_5m',\n",
       "       'txn_cash_in_avg_5m', 'txn_cash_out_val_5m', 'tot_cross_border_cnt_12m',\n",
       "       'txn_large_in_cash_val_10k_5m', 'txn_cash_out_cnt_3m',\n",
       "       'geo_mail_addr_country_rate_low', 'prod_asset_balance',\n",
       "       'in_person_visit_cnt', 'txn_cash_out_avg_5m', 'prod_cda',\n",
       "       'prod_primary_cda_cnt', 'prod_prim_acct_cnt', 'tot_cash_cnt_5m',\n",
       "       'txn_wires_out_val_12m', 'txn_wires_out_high_val_12m',\n",
       "       'txn_wires_in_high_val_12m', 'txn_cross_border_out_val_12m',\n",
       "       'txn_cross_border_in_val_12m', 'prod_llc', 'txn_wires_in_med_val_12m',\n",
       "       'txn_large_out_cash_val_9k_3m', 'txn_large_in_cash_val_9k_3m',\n",
       "       'txn_large_out_cash_val_10k_3m', 'txn_large_in_cash_val_10k_3m',\n",
       "       'txn_cash_out_avg_3m', 'txn_wires_in_val_12m',\n",
       "       'txn_wires_in_low_val_12m', 'txn_wires_out_med_val_12m',\n",
       "       'cust_cdn_resident', 'txn_wires_out_low_val_12m',\n",
       "       'txn_wires_in_cnt_12m', 'txn_wires_out_cnt_12m'],\n",
       "      dtype='object')"
      ]
     },
     "execution_count": 24,
     "metadata": {},
     "output_type": "execute_result"
    }
   ],
   "source": [
    "highest_features_cols = data_train.columns[feature_importance_index][:35]\n",
    "highest_features_cols"
   ]
  },
  {
   "cell_type": "code",
   "execution_count": 18,
   "id": "f7decee7",
   "metadata": {},
   "outputs": [
    {
     "data": {
      "text/plain": [
       "<AxesSubplot:>"
      ]
     },
     "execution_count": 18,
     "metadata": {},
     "output_type": "execute_result"
    },
    {
     "data": {
      "image/png": "[encoded data removed]",
      "text/plain": [
       "<Figure size 432x288 with 2 Axes>"
      ]
     },
     "metadata": {
      "needs_background": "light"
     },
     "output_type": "display_data"
    }
   ],
   "source": [
    "# tot_cross_border_val_12m, avg_wire_12m highly corrlated\n",
    "# avg_cash_5m: txn_cash_out_val_5m, txn_cash_out_cnt_5m, txn_large_in_cash_val_9k_5m, txn_cash_in_avg_3m, txn_cash_in_avg_5m\n",
    "# cust_cdn_resident, geo_mail_addr_country_rate_low are perfectly correlated, guess: basic all in Canada, and Canada is low risk\n",
    "# country\n",
    "\"\"\"\n",
    "among the first 20 features ordered by importance, we delete avg_wire_12m, avg_cash_5m, txn_cash_in_avg_3m, \n",
    "txn_large_in_cash_val_9k_5m for high correlation with other features' issue\n",
    "\"\"\""
   ]
  },
  {
   "cell_type": "code",
   "execution_count": 33,
   "id": "c3ce51b0",
   "metadata": {},
   "outputs": [],
   "source": [
    "selected_features = ['tot_cross_border_val_12m', 'txn_cash_out_cnt_5m', 'geo_mail_addr_country_rate_low',\n",
    "                     'in_person_visit_cnt', 'prod_primary_cda_cnt', 'prod_primary_sav_cnt', 'prod_primary_crc_cnt',\n",
    "                     'cust_tenure', 'prod_total_balance', 'prod_none_prim_acct_cnt', 'prod_primary_ted_cnt', 'prod_mor']"
   ]
  },
  {
   "cell_type": "code",
   "execution_count": 34,
   "id": "9c59237c",
   "metadata": {},
   "outputs": [],
   "source": [
    "df_selected = df_no_id[selected_features]"
   ]
  },
  {
   "cell_type": "code",
   "execution_count": 35,
   "id": "ff497461",
   "metadata": {},
   "outputs": [
    {
     "data": {
      "text/html": [
       "<div>\n",
       "<style scoped>\n",
       "    .dataframe tbody tr th:only-of-type {\n",
       "        vertical-align: middle;\n",
       "    }\n",
       "\n",
       "    .dataframe tbody tr th {\n",
       "        vertical-align: top;\n",
       "    }\n",
       "\n",
       "    .dataframe thead th {\n",
       "        text-align: right;\n",
       "    }\n",
       "</style>\n",
       "<table border=\"1\" class=\"dataframe\">\n",
       "  <thead>\n",
       "    <tr style=\"text-align: right;\">\n",
       "      <th></th>\n",
       "      <th>tot_cross_border_val_12m</th>\n",
       "      <th>txn_cash_out_cnt_5m</th>\n",
       "      <th>geo_mail_addr_country_rate_low</th>\n",
       "      <th>in_person_visit_cnt</th>\n",
       "      <th>prod_primary_cda_cnt</th>\n",
       "      <th>prod_primary_sav_cnt</th>\n",
       "      <th>prod_primary_crc_cnt</th>\n",
       "      <th>cust_tenure</th>\n",
       "      <th>prod_total_balance</th>\n",
       "      <th>prod_none_prim_acct_cnt</th>\n",
       "      <th>prod_primary_ted_cnt</th>\n",
       "      <th>prod_mor</th>\n",
       "    </tr>\n",
       "  </thead>\n",
       "  <tbody>\n",
       "    <tr>\n",
       "      <th>0</th>\n",
       "      <td>-0.128725</td>\n",
       "      <td>-0.739018</td>\n",
       "      <td>0.227768</td>\n",
       "      <td>-0.510405</td>\n",
       "      <td>-0.989953</td>\n",
       "      <td>-0.677491</td>\n",
       "      <td>-0.811988</td>\n",
       "      <td>-1.024753</td>\n",
       "      <td>-0.076465</td>\n",
       "      <td>-0.416987</td>\n",
       "      <td>-0.521852</td>\n",
       "      <td>-0.391077</td>\n",
       "    </tr>\n",
       "    <tr>\n",
       "      <th>1</th>\n",
       "      <td>-0.128725</td>\n",
       "      <td>-0.337964</td>\n",
       "      <td>-4.390428</td>\n",
       "      <td>0.064534</td>\n",
       "      <td>0.297862</td>\n",
       "      <td>0.548246</td>\n",
       "      <td>-0.811988</td>\n",
       "      <td>-0.802710</td>\n",
       "      <td>-0.391813</td>\n",
       "      <td>-0.416987</td>\n",
       "      <td>-0.521852</td>\n",
       "      <td>-0.391077</td>\n",
       "    </tr>\n",
       "    <tr>\n",
       "      <th>2</th>\n",
       "      <td>-0.128725</td>\n",
       "      <td>-0.739018</td>\n",
       "      <td>0.227768</td>\n",
       "      <td>-0.510405</td>\n",
       "      <td>-0.989953</td>\n",
       "      <td>-0.677491</td>\n",
       "      <td>-0.811988</td>\n",
       "      <td>-0.893597</td>\n",
       "      <td>-0.230200</td>\n",
       "      <td>-0.416987</td>\n",
       "      <td>-0.521852</td>\n",
       "      <td>-0.391077</td>\n",
       "    </tr>\n",
       "    <tr>\n",
       "      <th>3</th>\n",
       "      <td>-0.128725</td>\n",
       "      <td>-0.739018</td>\n",
       "      <td>0.227768</td>\n",
       "      <td>-0.510405</td>\n",
       "      <td>-0.989953</td>\n",
       "      <td>0.548246</td>\n",
       "      <td>-0.811988</td>\n",
       "      <td>-0.742306</td>\n",
       "      <td>-0.304636</td>\n",
       "      <td>-0.416987</td>\n",
       "      <td>-0.521852</td>\n",
       "      <td>-0.391077</td>\n",
       "    </tr>\n",
       "    <tr>\n",
       "      <th>4</th>\n",
       "      <td>-0.128725</td>\n",
       "      <td>1.065728</td>\n",
       "      <td>0.227768</td>\n",
       "      <td>0.187735</td>\n",
       "      <td>0.297862</td>\n",
       "      <td>-0.677491</td>\n",
       "      <td>-0.811988</td>\n",
       "      <td>0.574287</td>\n",
       "      <td>-0.304655</td>\n",
       "      <td>-0.416987</td>\n",
       "      <td>-0.521852</td>\n",
       "      <td>-0.391077</td>\n",
       "    </tr>\n",
       "    <tr>\n",
       "      <th>...</th>\n",
       "      <td>...</td>\n",
       "      <td>...</td>\n",
       "      <td>...</td>\n",
       "      <td>...</td>\n",
       "      <td>...</td>\n",
       "      <td>...</td>\n",
       "      <td>...</td>\n",
       "      <td>...</td>\n",
       "      <td>...</td>\n",
       "      <td>...</td>\n",
       "      <td>...</td>\n",
       "      <td>...</td>\n",
       "    </tr>\n",
       "    <tr>\n",
       "      <th>583</th>\n",
       "      <td>-0.128725</td>\n",
       "      <td>-0.739018</td>\n",
       "      <td>0.227768</td>\n",
       "      <td>-0.510405</td>\n",
       "      <td>-0.989953</td>\n",
       "      <td>0.548246</td>\n",
       "      <td>-0.811988</td>\n",
       "      <td>-0.724408</td>\n",
       "      <td>-0.304628</td>\n",
       "      <td>-0.416987</td>\n",
       "      <td>-0.521852</td>\n",
       "      <td>-0.391077</td>\n",
       "    </tr>\n",
       "    <tr>\n",
       "      <th>584</th>\n",
       "      <td>-0.107816</td>\n",
       "      <td>-0.739018</td>\n",
       "      <td>0.227768</td>\n",
       "      <td>1.994687</td>\n",
       "      <td>1.585677</td>\n",
       "      <td>0.548246</td>\n",
       "      <td>-0.811988</td>\n",
       "      <td>-0.748179</td>\n",
       "      <td>-0.304628</td>\n",
       "      <td>-0.416987</td>\n",
       "      <td>-0.521852</td>\n",
       "      <td>-0.391077</td>\n",
       "    </tr>\n",
       "    <tr>\n",
       "      <th>585</th>\n",
       "      <td>0.227885</td>\n",
       "      <td>1.667309</td>\n",
       "      <td>0.227768</td>\n",
       "      <td>1.296546</td>\n",
       "      <td>2.873492</td>\n",
       "      <td>0.548246</td>\n",
       "      <td>1.511365</td>\n",
       "      <td>-0.239215</td>\n",
       "      <td>-0.218259</td>\n",
       "      <td>-0.416987</td>\n",
       "      <td>0.662893</td>\n",
       "      <td>-0.391077</td>\n",
       "    </tr>\n",
       "    <tr>\n",
       "      <th>586</th>\n",
       "      <td>-0.128725</td>\n",
       "      <td>-0.337964</td>\n",
       "      <td>0.227768</td>\n",
       "      <td>-0.469338</td>\n",
       "      <td>-0.989953</td>\n",
       "      <td>-0.677491</td>\n",
       "      <td>-0.811988</td>\n",
       "      <td>0.942306</td>\n",
       "      <td>-0.059078</td>\n",
       "      <td>1.912595</td>\n",
       "      <td>-0.521852</td>\n",
       "      <td>-0.391077</td>\n",
       "    </tr>\n",
       "    <tr>\n",
       "      <th>587</th>\n",
       "      <td>-0.128725</td>\n",
       "      <td>-0.739018</td>\n",
       "      <td>0.227768</td>\n",
       "      <td>-0.469338</td>\n",
       "      <td>-0.989953</td>\n",
       "      <td>-0.677491</td>\n",
       "      <td>-0.231150</td>\n",
       "      <td>-0.078417</td>\n",
       "      <td>0.147728</td>\n",
       "      <td>-0.416987</td>\n",
       "      <td>-0.521852</td>\n",
       "      <td>2.557042</td>\n",
       "    </tr>\n",
       "  </tbody>\n",
       "</table>\n",
       "<p>588 rows × 12 columns</p>\n",
       "</div>"
      ],
      "text/plain": [
       "     tot_cross_border_val_12m  txn_cash_out_cnt_5m  \\\n",
       "0                   -0.128725            -0.739018   \n",
       "1                   -0.128725            -0.337964   \n",
       "2                   -0.128725            -0.739018   \n",
       "3                   -0.128725            -0.739018   \n",
       "4                   -0.128725             1.065728   \n",
       "..                        ...                  ...   \n",
       "583                 -0.128725            -0.739018   \n",
       "584                 -0.107816            -0.739018   \n",
       "585                  0.227885             1.667309   \n",
       "586                 -0.128725            -0.337964   \n",
       "587                 -0.128725            -0.739018   \n",
       "\n",
       "     geo_mail_addr_country_rate_low  in_person_visit_cnt  \\\n",
       "0                          0.227768            -0.510405   \n",
       "1                         -4.390428             0.064534   \n",
       "2                          0.227768            -0.510405   \n",
       "3                          0.227768            -0.510405   \n",
       "4                          0.227768             0.187735   \n",
       "..                              ...                  ...   \n",
       "583                        0.227768            -0.510405   \n",
       "584                        0.227768             1.994687   \n",
       "585                        0.227768             1.296546   \n",
       "586                        0.227768            -0.469338   \n",
       "587                        0.227768            -0.469338   \n",
       "\n",
       "     prod_primary_cda_cnt  prod_primary_sav_cnt  prod_primary_crc_cnt  \\\n",
       "0               -0.989953             -0.677491             -0.811988   \n",
       "1                0.297862              0.548246             -0.811988   \n",
       "2               -0.989953             -0.677491             -0.811988   \n",
       "3               -0.989953              0.548246             -0.811988   \n",
       "4                0.297862             -0.677491             -0.811988   \n",
       "..                    ...                   ...                   ...   \n",
       "583             -0.989953              0.548246             -0.811988   \n",
       "584              1.585677              0.548246             -0.811988   \n",
       "585              2.873492              0.548246              1.511365   \n",
       "586             -0.989953             -0.677491             -0.811988   \n",
       "587             -0.989953             -0.677491             -0.231150   \n",
       "\n",
       "     cust_tenure  prod_total_balance  prod_none_prim_acct_cnt  \\\n",
       "0      -1.024753           -0.076465                -0.416987   \n",
       "1      -0.802710           -0.391813                -0.416987   \n",
       "2      -0.893597           -0.230200                -0.416987   \n",
       "3      -0.742306           -0.304636                -0.416987   \n",
       "4       0.574287           -0.304655                -0.416987   \n",
       "..           ...                 ...                      ...   \n",
       "583    -0.724408           -0.304628                -0.416987   \n",
       "584    -0.748179           -0.304628                -0.416987   \n",
       "585    -0.239215           -0.218259                -0.416987   \n",
       "586     0.942306           -0.059078                 1.912595   \n",
       "587    -0.078417            0.147728                -0.416987   \n",
       "\n",
       "     prod_primary_ted_cnt  prod_mor  \n",
       "0               -0.521852 -0.391077  \n",
       "1               -0.521852 -0.391077  \n",
       "2               -0.521852 -0.391077  \n",
       "3               -0.521852 -0.391077  \n",
       "4               -0.521852 -0.391077  \n",
       "..                    ...       ...  \n",
       "583             -0.521852 -0.391077  \n",
       "584             -0.521852 -0.391077  \n",
       "585              0.662893 -0.391077  \n",
       "586             -0.521852 -0.391077  \n",
       "587             -0.521852  2.557042  \n",
       "\n",
       "[588 rows x 12 columns]"
      ]
     },
     "execution_count": 35,
     "metadata": {},
     "output_type": "execute_result"
    }
   ],
   "source": [
    "df_selected"
   ]
  },
  {
   "cell_type": "code",
   "execution_count": 36,
   "id": "51296f02",
   "metadata": {},
   "outputs": [
    {
     "data": {
      "text/plain": [
       "<AxesSubplot:>"
      ]
     },
     "execution_count": 36,
     "metadata": {},
     "output_type": "execute_result"
    },
    {
     "data": {
      "image/png": "[encoded data removed]",
      "text/plain": [
       "<Figure size 432x288 with 2 Axes>"
      ]
     },
     "metadata": {
      "needs_background": "light"
     },
     "output_type": "display_data"
    }
   ],
   "source": [
    "sns.heatmap(df_selected.corr())"
   ]
  },
  {
   "cell_type": "code",
   "execution_count": 37,
   "id": "2ae29b89",
   "metadata": {},
   "outputs": [],
   "source": [
    "X = df_selected\n",
    "y = df_no_id['rating']"
   ]
  },
  {
   "cell_type": "code",
   "execution_count": 27,
   "id": "48c0e9cc",
   "metadata": {},
   "outputs": [
    {
     "name": "stdout",
     "output_type": "stream",
     "text": [
      "The correlaton of tot_cross_border_val_12m vs the rating is: 0.1035169369578487\n",
      "The correlaton of txn_cash_out_cnt_5m vs the rating is: -0.01710534013102376\n",
      "The correlaton of geo_mail_addr_country_rate_low vs the rating is: -0.219948712911795\n",
      "The correlaton of in_person_visit_cnt vs the rating is: 0.1781014522236132\n",
      "The correlaton of prod_primary_cda_cnt vs the rating is: 0.3141898197374996\n",
      "The correlaton of prod_primary_sav_cnt vs the rating is: 0.13039316693130681\n",
      "The correlaton of prod_primary_crc_cnt vs the rating is: 0.017148269469138704\n",
      "The correlaton of cust_tenure vs the rating is: -0.1387922518523896\n",
      "The correlaton of prod_total_balance vs the rating is: 0.07981126175468999\n",
      "The correlaton of prod_none_prim_acct_cnt vs the rating is: -0.04980770371788715\n",
      "The correlaton of prod_primary_ted_cnt vs the rating is: -0.04781141109305636\n",
      "The correlaton of prod_mor vs the rating is: 0.05023101373005839\n"
     ]
    }
   ],
   "source": [
    "for feature in selected_features:\n",
    "    print(f\"The correlaton of {feature} vs the rating is: {df_no_id[[feature, 'rating']].corr().iloc[0, 1]}\")"
   ]
  },
  {
   "cell_type": "code",
   "execution_count": 38,
   "id": "0897750a",
   "metadata": {},
   "outputs": [
    {
     "data": {
      "text/plain": [
       " 0.227768    559\n",
       "-4.390428     29\n",
       "Name: geo_mail_addr_country_rate_low, dtype: int64"
      ]
     },
     "execution_count": 38,
     "metadata": {},
     "output_type": "execute_result"
    }
   ],
   "source": [
    "df_no_id['geo_mail_addr_country_rate_low'].value_counts()"
   ]
  },
  {
   "cell_type": "code",
   "execution_count": 39,
   "id": "5a877971",
   "metadata": {},
   "outputs": [],
   "source": [
    "X_train, X_test, y_train, y_test = train_test_split(X, y, test_size = 0.2, random_state = 42)"
   ]
  },
  {
   "cell_type": "code",
   "execution_count": 40,
   "id": "f7cd482b",
   "metadata": {},
   "outputs": [],
   "source": [
    "train_data = X_train\n",
    "train_data['rating'] = y_train"
   ]
  },
  {
   "cell_type": "code",
   "execution_count": 41,
   "id": "dbbeac49",
   "metadata": {},
   "outputs": [
    {
     "name": "stderr",
     "output_type": "stream",
     "text": [
      "No path specified. Models will be saved in: \"AutogluonModels/ag-20221130_000736\\\"\n",
      "Presets specified: ['best_quality']\n",
      "Beginning AutoGluon training ...\n",
      "AutoGluon will save models to \"AutogluonModels/ag-20221130_000736\\\"\n",
      "AutoGluon Version:  0.4.2\n",
      "Python Version:     3.9.7\n",
      "Operating System:   Windows\n",
      "Train Data Rows:    470\n",
      "Train Data Columns: 12\n",
      "Label Column: rating\n",
      "Preprocessing data ...\n",
      "AutoGluon infers your prediction problem is: 'binary' (because only two unique label-values observed).\n",
      "\t2 unique label values:  [0, 1]\n",
      "\tIf 'binary' is not the correct problem_type, please manually specify the problem_type parameter during predictor init (You may specify problem_type as one of: ['binary', 'multiclass', 'regression'])\n",
      "Selected class <--> label mapping:  class 1 = 1, class 0 = 0\n",
      "Using Feature Generators to preprocess the data ...\n",
      "Fitting AutoMLPipelineFeatureGenerator...\n",
      "\tAvailable Memory:                    1556.87 MB\n",
      "\tTrain Data (Original)  Memory Usage: 0.05 MB (0.0% of available memory)\n",
      "\tInferring data type of each feature based on column values. Set feature_metadata_in to manually specify special dtypes of the features.\n",
      "\tStage 1 Generators:\n",
      "\t\tFitting AsTypeFeatureGenerator...\n",
      "\t\t\tNote: Converting 2 features to boolean dtype as they only contain 2 unique values.\n",
      "\tStage 2 Generators:\n",
      "\t\tFitting FillNaFeatureGenerator...\n",
      "\tStage 3 Generators:\n",
      "\t\tFitting IdentityFeatureGenerator...\n",
      "\tStage 4 Generators:\n",
      "\t\tFitting DropUniqueFeatureGenerator...\n",
      "\tTypes of features in original data (raw dtype, special dtypes):\n",
      "\t\t('float', []) : 12 | ['tot_cross_border_val_12m', 'txn_cash_out_cnt_5m', 'geo_mail_addr_country_rate_low', 'in_person_visit_cnt', 'prod_primary_cda_cnt', ...]\n",
      "\tTypes of features in processed data (raw dtype, special dtypes):\n",
      "\t\t('float', [])     : 10 | ['tot_cross_border_val_12m', 'txn_cash_out_cnt_5m', 'in_person_visit_cnt', 'prod_primary_cda_cnt', 'prod_primary_sav_cnt', ...]\n",
      "\t\t('int', ['bool']) :  2 | ['geo_mail_addr_country_rate_low', 'prod_mor']\n",
      "\t0.0s = Fit runtime\n",
      "\t12 features in original data used to generate 12 features in processed data.\n",
      "\tTrain Data (Processed) Memory Usage: 0.04 MB (0.0% of available memory)\n",
      "Data preprocessing and feature engineering runtime = 0.03s ...\n",
      "AutoGluon will gauge predictive performance using evaluation metric: 'accuracy'\n",
      "\tTo change this, specify the eval_metric parameter of Predictor()\n",
      "Fitting 13 L1 models ...\n",
      "Fitting model: KNeighborsUnif_BAG_L1 ...\n",
      "Intel(R) Extension for Scikit-learn* enabled (https://github.com/intel/scikit-learn-intelex)\n",
      "Intel(R) Extension for Scikit-learn* enabled (https://github.com/intel/scikit-learn-intelex)\n",
      "\t0.7106\t = Validation score   (accuracy)\n",
      "\t0.01s\t = Training   runtime\n",
      "\t0.0s\t = Validation runtime\n",
      "Fitting model: KNeighborsDist_BAG_L1 ...\n",
      "Intel(R) Extension for Scikit-learn* enabled (https://github.com/intel/scikit-learn-intelex)\n",
      "Intel(R) Extension for Scikit-learn* enabled (https://github.com/intel/scikit-learn-intelex)\n",
      "\t0.683\t = Validation score   (accuracy)\n",
      "\t0.01s\t = Training   runtime\n",
      "\t0.01s\t = Validation runtime\n",
      "Fitting model: LightGBMXT_BAG_L1 ...\n",
      "\tFitting 5 child models (S1F1 - S1F5) | Fitting with ParallelLocalFoldFittingStrategy\n",
      "\t0.7936\t = Validation score   (accuracy)\n",
      "\t3.82s\t = Training   runtime\n",
      "\t0.0s\t = Validation runtime\n",
      "Fitting model: LightGBM_BAG_L1 ...\n",
      "\tFitting 5 child models (S1F1 - S1F5) | Fitting with ParallelLocalFoldFittingStrategy\n",
      "\t0.7957\t = Validation score   (accuracy)\n",
      "\t3.67s\t = Training   runtime\n",
      "\t0.01s\t = Validation runtime\n",
      "Fitting model: RandomForestGini_BAG_L1 ...\n",
      "\t0.7638\t = Validation score   (accuracy)\n",
      "\t0.36s\t = Training   runtime\n",
      "\t0.07s\t = Validation runtime\n",
      "Fitting model: RandomForestEntr_BAG_L1 ...\n",
      "\t0.7681\t = Validation score   (accuracy)\n",
      "\t0.39s\t = Training   runtime\n",
      "\t0.06s\t = Validation runtime\n",
      "Fitting model: CatBoost_BAG_L1 ...\n",
      "\tFitting 5 child models (S1F1 - S1F5) | Fitting with ParallelLocalFoldFittingStrategy\n",
      "\t0.8\t = Validation score   (accuracy)\n",
      "\t4.2s\t = Training   runtime\n",
      "\t0.01s\t = Validation runtime\n",
      "Fitting model: ExtraTreesGini_BAG_L1 ...\n",
      "\t0.7298\t = Validation score   (accuracy)\n",
      "\t0.36s\t = Training   runtime\n",
      "\t0.08s\t = Validation runtime\n",
      "Fitting model: ExtraTreesEntr_BAG_L1 ...\n",
      "\t0.7319\t = Validation score   (accuracy)\n",
      "\t0.33s\t = Training   runtime\n",
      "\t0.08s\t = Validation runtime\n",
      "Fitting model: NeuralNetFastAI_BAG_L1 ...\n",
      "\tFitting 5 child models (S1F1 - S1F5) | Fitting with ParallelLocalFoldFittingStrategy\n",
      "\t0.7638\t = Validation score   (accuracy)\n",
      "\t4.68s\t = Training   runtime\n",
      "\t0.04s\t = Validation runtime\n",
      "Fitting model: XGBoost_BAG_L1 ...\n",
      "\tFitting 5 child models (S1F1 - S1F5) | Fitting with ParallelLocalFoldFittingStrategy\n",
      "\t0.8064\t = Validation score   (accuracy)\n",
      "\t2.73s\t = Training   runtime\n",
      "\t0.03s\t = Validation runtime\n",
      "Fitting model: NeuralNetTorch_BAG_L1 ...\n",
      "\tFitting 5 child models (S1F1 - S1F5) | Fitting with ParallelLocalFoldFittingStrategy\n",
      "\t0.7638\t = Validation score   (accuracy)\n",
      "\t5.17s\t = Training   runtime\n",
      "\t0.08s\t = Validation runtime\n",
      "Fitting model: LightGBMLarge_BAG_L1 ...\n",
      "\tFitting 5 child models (S1F1 - S1F5) | Fitting with ParallelLocalFoldFittingStrategy\n",
      "\t0.8021\t = Validation score   (accuracy)\n",
      "\t3.81s\t = Training   runtime\n",
      "\t0.02s\t = Validation runtime\n",
      "Fitting model: WeightedEnsemble_L2 ...\n",
      "\t0.8085\t = Validation score   (accuracy)\n",
      "\t0.31s\t = Training   runtime\n",
      "\t0.0s\t = Validation runtime\n",
      "AutoGluon training complete, total runtime = 33.71s ... Best model: \"WeightedEnsemble_L2\"\n",
      "TabularPredictor saved. To load, use: predictor = TabularPredictor.load(\"AutogluonModels/ag-20221130_000736\\\")\n"
     ]
    }
   ],
   "source": [
    "from autogluon.tabular import TabularDataset, TabularPredictor\n",
    "label = 'rating'\n",
    "predictor = TabularPredictor(label=label, eval_metric = 'accuracy').fit(train_data, presets = 'best_quality')"
   ]
  },
  {
   "cell_type": "code",
   "execution_count": 42,
   "id": "8563f376",
   "metadata": {},
   "outputs": [],
   "source": [
    "y_pred = predictor.predict(X_test)"
   ]
  },
  {
   "cell_type": "code",
   "execution_count": 43,
   "id": "68c9001a",
   "metadata": {},
   "outputs": [
    {
     "name": "stderr",
     "output_type": "stream",
     "text": [
      "Evaluation: accuracy on test data: 0.8559322033898306\n",
      "Evaluations on test data:\n",
      "{\n",
      "    \"accuracy\": 0.8559322033898306,\n",
      "    \"balanced_accuracy\": 0.7937675070028012,\n",
      "    \"mcc\": 0.6334469898343182,\n",
      "    \"f1\": 0.7213114754098361,\n",
      "    \"precision\": 0.8148148148148148,\n",
      "    \"recall\": 0.6470588235294118\n",
      "}\n"
     ]
    }
   ],
   "source": [
    "perf = predictor.evaluate_predictions(y_true=y_test, y_pred=y_pred, auxiliary_metrics=True)"
   ]
  },
  {
   "cell_type": "code",
   "execution_count": null,
   "id": "4876d73e",
   "metadata": {},
   "outputs": [],
   "source": []
  },
  {
   "cell_type": "code",
   "execution_count": null,
   "id": "d55d8989",
   "metadata": {},
   "outputs": [],
   "source": []
  },
  {
   "cell_type": "code",
   "execution_count": null,
   "id": "fa9128c9",
   "metadata": {},
   "outputs": [],
   "source": []
  },
  {
   "cell_type": "code",
   "execution_count": null,
   "id": "bb8cc68e",
   "metadata": {},
   "outputs": [],
   "source": []
  },
  {
   "cell_type": "code",
   "execution_count": null,
   "id": "d0d70eb2",
   "metadata": {},
   "outputs": [],
   "source": []
  },
  {
   "cell_type": "code",
   "execution_count": null,
   "id": "768c5d58",
   "metadata": {},
   "outputs": [],
   "source": []
  }
 ],
 "metadata": {
  "kernelspec": {
   "display_name": "Python 3 (ipykernel)",
   "language": "python",
   "name": "python3"
  },
  "language_info": {
   "codemirror_mode": {
    "name": "ipython",
    "version": 3
   },
   "file_extension": ".py",
   "mimetype": "text/x-python",
   "name": "python",
   "nbconvert_exporter": "python",
   "pygments_lexer": "ipython3",
   "version": "3.9.7"
  }
 },
 "nbformat": 4,
 "nbformat_minor": 5
}
